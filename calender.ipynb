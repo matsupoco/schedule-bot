{
 "cells": [
  {
   "cell_type": "code",
   "execution_count": 1,
   "id": "58ba572a",
   "metadata": {},
   "outputs": [],
   "source": [
    "from __future__ import print_function\n",
    "from linebot import LineBotApi\n",
    "from linebot.models import TextSendMessage\n",
    "import datetime\n",
    "import pickle\n",
    "import os.path\n",
    "import re\n",
    "import json\n",
    "from googleapiclient.discovery import build\n",
    "from google_auth_oauthlib.flow import InstalledAppFlow\n",
    "from google.auth.transport.requests import Request"
   ]
  },
  {
   "cell_type": "code",
   "execution_count": 7,
   "id": "a989f273",
   "metadata": {
    "scrolled": true
   },
   "outputs": [
    {
     "name": "stdout",
     "output_type": "stream",
     "text": [
      "Please visit this URL to authorize this application: https://accounts.google.com/o/oauth2/auth?response_type=code&client_id=390629400739-fmh24thqi705s3g6dpnecfbmg6ifbr0r.apps.googleusercontent.com&redirect_uri=http%3A%2F%2Flocalhost%3A8080%2F&scope=https%3A%2F%2Fwww.googleapis.com%2Fauth%2Fcalendar&state=VrdZMtw9SvQAoW2IQtYYDUfm6Imwip&access_type=offline\n"
     ]
    }
   ],
   "source": [
    "SCOPES = ['https://www.googleapis.com/auth/calendar']\n",
    "\n",
    "#Googleにcalenderへのアクセストークンを要求してcredsに格納\n",
    "creds = None\n",
    "\n",
    "#有効なトークンをすでに持っているかチェック(二回目以降の実行時に認証を省略するため)\n",
    "if os.path.exists('token.pickle'):\n",
    "    with open('token.pickle','rb') as token:\n",
    "        creds = pickle.load(token)\n",
    "#期限切れのトークンを持っているかチェック(認証を省略するため)\n",
    "if not creds or not creds.valid:\n",
    "    if creds and creds.expired and creds.refreshtoken:\n",
    "        creds.refresh(Request())\n",
    "        \n",
    "    #アクセストークンを要求\n",
    "    else:\n",
    "        flow = InstalledAppFlow.from_client_secrets_file(\n",
    "                'credentials.json',SCOPES)\n",
    "        creds = flow.run_local_server()\n",
    "    #アクセストークン保存(2回目以降の実行時に認証を省略するため)\n",
    "    with open('token.pickle', 'wb') as token:\n",
    "        pickle.dump(creds, token)\n",
    "        \n"
   ]
  },
  {
   "cell_type": "code",
   "execution_count": 8,
   "id": "31f5c9dd",
   "metadata": {},
   "outputs": [],
   "source": [
    "\n",
    "service = build('calendar', 'v3', credentials=creds)\n",
    "\n",
    "#今日の一日のスケジュールを取得\n",
    "def TodaysSchedule():\n",
    "    #現在時刻を取得\n",
    "    today_start = str(datetime.date.today()) + 'T00:00:00' + 'Z' \n",
    "    today_end = str(datetime.date.today()) + 'T23:59:59' 'Z'  \n",
    "    #カレンダーから予定を取得\n",
    "\n",
    "    events_result = service.events().list(calendarId='primary', timeMin=today_start,timeMax=today_end,\n",
    "                                              maxResults=10, singleEvents=True,\n",
    "                                              orderBy='startTime').execute()\n",
    "    events = events_result.get('items',[])\n",
    "    \n",
    "    today_events = []\n",
    "    #予定がない場合はNot found\n",
    "    if not events:\n",
    "        #print('No upcoming events found.')\n",
    "        return today_events\n",
    "    #予定があった場合には、出力\n",
    "    for event in events:\n",
    "        start = event['start'].get('dateTime',event['start'].get('date'))\n",
    "        start = start.split('T')\n",
    "        start_date = start[0].split('-')\n",
    "        date = '/'.join(start_date[1:])\n",
    "        start_time = re.match('[0-9]{2}:[0-9]{2}',start[1]).group()\n",
    "\n",
    "        end = event['end'].get('dateTime',event['end'].get('date'))\n",
    "        end = end.split('T')\n",
    "        end_time = re.match('[0-9]{2}:[0-9]{2}',end[1]).group()\n",
    "        \n",
    "        summary = [start_time+'～'+end_time+' '+event['summary']]\n",
    "        \n",
    "        today_events.extend(summary)\n",
    "        #print(date,start_time+'-'+end_time, event['summary'])\n",
    "    return today_events"
   ]
  },
  {
   "cell_type": "code",
   "execution_count": 9,
   "id": "bafb3dba",
   "metadata": {},
   "outputs": [],
   "source": [
    "file = open('info.json','r')\n",
    "info = json.load(file)\n",
    "CHANNEL_ACCESS_TOKEN = info['CHANNEL_ACCESS_TOKEN']\n",
    "line_bot_api = LineBotApi(CHANNEL_ACCESS_TOKEN)"
   ]
  },
  {
   "cell_type": "code",
   "execution_count": 10,
   "id": "3f26f0ca",
   "metadata": {},
   "outputs": [
    {
     "data": {
      "text/plain": [
       "['19:30～20:30 株式会社pluszero ']"
      ]
     },
     "execution_count": 10,
     "metadata": {},
     "output_type": "execute_result"
    }
   ],
   "source": [
    "a = TodaysSchedule()\n",
    "a"
   ]
  },
  {
   "cell_type": "code",
   "execution_count": 11,
   "id": "b8d82322",
   "metadata": {},
   "outputs": [],
   "source": [
    "def main():\n",
    "    USER_ID = info['USER_ID']\n",
    "    messages = TextSendMessage(text=\"おはようございます!\")\n",
    "    line_bot_api.push_message(USER_ID,messages=messages)\n",
    "    \n",
    "    today_events = TodaysSchedule()\n",
    "    if not today_events:\n",
    "        messages = TextSendMessage(text=\"今日は特に予定はございません!\\n自由な1日をお過ごしください。\")\n",
    "        line_bot_api.push_message(USER_ID,messages=messages)\n",
    "    else:\n",
    "        event_messages = '本日のスケジュールは、\\n'\n",
    "        for event in today_events:\n",
    "            event_messages += event+'\\n'\n",
    "        event_messages+='です！'\n",
    "        messages = TextSendMessage(text=event_messages)\n",
    "        line_bot_api.push_message(USER_ID,messages=messages)\n",
    "\n",
    "    \n",
    "if __name__ == \"__main__\":\n",
    "    main()"
   ]
  },
  {
   "cell_type": "code",
   "execution_count": null,
   "id": "5cc52ecb",
   "metadata": {},
   "outputs": [],
   "source": []
  }
 ],
 "metadata": {
  "kernelspec": {
   "display_name": "Python 3",
   "language": "python",
   "name": "python3"
  },
  "language_info": {
   "codemirror_mode": {
    "name": "ipython",
    "version": 3
   },
   "file_extension": ".py",
   "mimetype": "text/x-python",
   "name": "python",
   "nbconvert_exporter": "python",
   "pygments_lexer": "ipython3",
   "version": "3.8.8"
  }
 },
 "nbformat": 4,
 "nbformat_minor": 5
}
